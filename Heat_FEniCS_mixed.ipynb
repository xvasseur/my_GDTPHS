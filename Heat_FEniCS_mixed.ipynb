{
 "cells": [
  {
   "cell_type": "markdown",
   "metadata": {},
   "source": [
    "## Finite Element Method (FEM) discretization of the heat equation in two dimensions with FEniCS"
   ]
  },
  {
   "cell_type": "markdown",
   "metadata": {},
   "source": [
    "<b>Goal</b>: This <a href=\"https://jupyter.org\"> Jupyter</a> notebook aims at illustrating the use of FEniCS to discretize a time-dependent PDE (heat equation in two dimensions). We specifically learn how to define the problem inside FEniCS. \n",
    "\n",
    "<b>Note</b>: a cell is made active by first clicking on the left part of the web page (a blue vertical line appears) and then pushing Shift+Enter. \n",
    "\n",
    "<b>Note</b>: The next cell has to be activated only once and specifies the Python libraries we will use in this notebook. A basic knowledge of Python is only expected to understand the code used in the cells.  "
   ]
  },
  {
   "cell_type": "code",
   "execution_count": 1,
   "metadata": {},
   "outputs": [],
   "source": [
    "#\n",
    "# To allow plots within the Notebook \n",
    "#\n",
    "%matplotlib inline\n",
    "\n",
    "# Import here the standard Python libraries used in the Notebook\n",
    "import matplotlib.pyplot as plt\n",
    "import numpy as np\n",
    "from scipy import *\n",
    "import scipy.sparse as sps\n",
    "import sys\n",
    "import time\n",
    "\n",
    "# Import FEniCS related libraries\n",
    "from fenics import *\n",
    "import dolfin as df"
   ]
  },
  {
   "cell_type": "markdown",
   "metadata": {},
   "source": [
    "### Python version"
   ]
  },
  {
   "cell_type": "code",
   "execution_count": 2,
   "metadata": {},
   "outputs": [
    {
     "name": "stdout",
     "output_type": "stream",
     "text": [
      "3.7.3 | packaged by conda-forge | (default, Mar 27 2019, 15:43:19) \n",
      "[Clang 4.0.1 (tags/RELEASE_401/final)]\n"
     ]
    }
   ],
   "source": [
    "print(sys.version)"
   ]
  },
  {
   "cell_type": "markdown",
   "metadata": {},
   "source": [
    "### <a href=\"https://fenicsproject.org\">FEniCS</a> version "
   ]
  },
  {
   "cell_type": "code",
   "execution_count": 3,
   "metadata": {},
   "outputs": [
    {
     "name": "stdout",
     "output_type": "stream",
     "text": [
      "2019.1.0\n"
     ]
    }
   ],
   "source": [
    "print(df.__version__)"
   ]
  },
  {
   "cell_type": "markdown",
   "metadata": {},
   "source": [
    "### <a href=\"https://fenicsproject.org\">Scipy</a> Linear algebra libraries"
   ]
  },
  {
   "cell_type": "code",
   "execution_count": 4,
   "metadata": {
    "scrolled": true
   },
   "outputs": [
    {
     "name": "stdout",
     "output_type": "stream",
     "text": [
      "mkl_info:\n",
      "  NOT AVAILABLE\n",
      "lapack_mkl_info:\n",
      "  NOT AVAILABLE\n",
      "openblas_lapack_info:\n",
      "    libraries = ['blas', 'cblas', 'lapack', 'blas', 'cblas', 'lapack']\n",
      "    library_dirs = ['/Users/vasseur/Software/anaconda3/envs/fenicsproject/lib']\n",
      "    language = f77\n",
      "lapack_opt_info:\n",
      "    libraries = ['blas', 'cblas', 'lapack', 'blas', 'cblas', 'lapack', 'blas', 'cblas', 'lapack']\n",
      "    library_dirs = ['/Users/vasseur/Software/anaconda3/envs/fenicsproject/lib']\n",
      "    language = f77\n",
      "blas_mkl_info:\n",
      "  NOT AVAILABLE\n",
      "system_info:\n",
      "  NOT AVAILABLE\n",
      "openblas_info:\n",
      "    libraries = ['blas', 'cblas', 'lapack', 'blas', 'cblas', 'lapack']\n",
      "    library_dirs = ['/Users/vasseur/Software/anaconda3/envs/fenicsproject/lib']\n",
      "    language = f77\n",
      "blas_opt_info:\n",
      "    libraries = ['blas', 'cblas', 'lapack', 'blas', 'cblas', 'lapack', 'blas', 'cblas', 'lapack']\n",
      "    library_dirs = ['/Users/vasseur/Software/anaconda3/envs/fenicsproject/lib']\n",
      "    language = f77\n",
      "None\n"
     ]
    }
   ],
   "source": [
    "print(show_config())"
   ]
  },
  {
   "cell_type": "markdown",
   "metadata": {},
   "source": [
    "# A.  2D heat equation:\n",
    "\n",
    "\n",
    "We consider the two-dimensional heat equation defined for all $t\\ge 0$ as\n",
    "$$\n",
    "\\begin{array}{ll} \n",
    "    \\displaystyle \\frac{\\partial}{\\partial t} u(t,\\boldsymbol x) - \\text{div}\\Big(\\overline{\\overline k}(\\boldsymbol x)\\cdot {grad} \\ u(t,\\boldsymbol x)\\Big)&=& f , \\quad \\boldsymbol x \\in \\Omega, \\\\\n",
    "                  u(t,\\boldsymbol x) & = & u_D, \\quad \\boldsymbol x \\in \\Gamma_D, \\\\ \n",
    "     {\\partial_n} u(t,\\boldsymbol x) & = & u_N, \\quad \\boldsymbol x \\in \\Gamma_N, \\\\ \n",
    "    u(0, \\boldsymbol x) & = & u_0(x), \\quad \\boldsymbol x \\in \\Omega, t=0,  \\\\\n",
    "\\end{array}\n",
    "$$\n",
    "with $\\Omega \\subset \\mathbb{R}^2$ an open bounded spatial domain with Lipschitz-continuous boundary $\\delta \\Omega = \\Gamma_D \\cup \\Gamma_N$. \n",
    "\n",
    "$u(t,\\boldsymbol x)$ denotes the temperature from the equilibrium position at point $\\boldsymbol x \\in \\Omega $ and time $t$.  $\\overline{\\overline k} \\in L^{\\infty}(\\Omega)$ (symmetric and coercive) denotes the conductivity coefficient. \n"
   ]
  },
  {
   "cell_type": "markdown",
   "metadata": {},
   "source": [
    "<b>Structure of part A</b>: This notebook first defines the continuous problem by using specific routines of FEniCS. Then we tackle the finite element discretization in space of the PDE. This discretization leads to a ODE formulation. After time discretization, we perform a numerical simulation to obtain an approximation of the space-time solution. Finally a simple postprocessing is performed. "
   ]
  },
  {
   "cell_type": "markdown",
   "metadata": {},
   "source": [
    "### Constants and parameters "
   ]
  },
  {
   "cell_type": "code",
   "execution_count": 5,
   "metadata": {},
   "outputs": [],
   "source": [
    "#\n",
    "# Define constants related to the definition of the geometric rectangular domain\n",
    "# x0, y0 are the coordinates of the bottom left point of the rectangle\n",
    "# xL, yL are the coordinates of the top right point of the rectangle\n",
    "#\n",
    "x0, xL, y0, yL = 0., 2., 0., 1.\n",
    "#\n",
    "# Define constants related to the time discretization in [tinit,tfinal]\n",
    "#\n",
    "tinit  = 0.\n",
    "tfinal = 4.\n",
    "#\n",
    "# Define the parameters related to the time discretization [only required for the Crank-Nicolson scheme]\n",
    "# \n",
    "dt     = 5.e-2\n",
    "theta  = 0.5\n",
    "#\n",
    "# Number of rectangles to be used in each direction for the mesh construction\n",
    "#\n",
    "nx = 20\n",
    "ny = 20\n",
    "#\n",
    "# Degree of Lagrange approximation in space\n",
    "#\n",
    "deg = 2 \n",
    "#\n",
    "# Specify if the solution has to be stored in a VTK file for post-processing with Paraview\n",
    "#\n",
    "movie = False\n",
    "if movie: vtkfile = File(\"./heat.pvd\")\n",
    "#\n",
    "# Parameters related to the manufactured solution \n",
    "#\n",
    "alpha = 3.\n",
    "beta  = 0."
   ]
  },
  {
   "cell_type": "markdown",
   "metadata": {},
   "source": [
    "### FEniCS expressions definition"
   ]
  },
  {
   "cell_type": "code",
   "execution_count": 6,
   "metadata": {},
   "outputs": [],
   "source": [
    "#\n",
    "# Define Fenics Expressions or Constants\n",
    "#\n",
    "\n",
    "# Piecewise constant conductivity coefficient, with possibly a high conductivity in a subrectangle\n",
    "# To specify k we use a FEniCS Expression which expresses the formula in terms of the coordinates\n",
    "# of the point. The expression is a string that is parsed by a C++ compiler and so must be written in C++.\n",
    "# DOLFIN_EPS is the machine precision used in FEniCS.\n",
    "# Here we specify two different subdomains and may assign different values depending on the location. \n",
    "# degree is the degree of quadrature to be used later for k in the assembly process. \n",
    "k = Expression(\"x[0] > .5 - DOLFIN_EPS && x[0] < 1.25 + DOLFIN_EPS && x[1] < .75 + DOLFIN_EPS && x[1] > .5 - DOLFIN_EPS ? 1. : 1.\", degree=2)\n",
    "\n",
    "# Source term\n",
    "# We use a Constant here due to the definition of the source term \n",
    "# that is related to the manufactured solution \n",
    "f = Constant(beta + 2 + 2*alpha)\n",
    "\n",
    "#\n",
    "# Dirichlet boundary condition on Gamma_D \n",
    "#\n",
    "u_D = Expression('x[0]*(Lx-x[0]) + alpha*x[1]*(Ly-x[1]) + beta*t',\n",
    "                  degree=2, Lx= xL, Ly = yL, alpha=alpha, beta=beta, t=0)\n",
    "\n",
    "#\n",
    "# Neumann boundary condition on Gamma_N \n",
    "#\n",
    "# u_N = Constant(0.)\n",
    "u_N = Expression('alpha*(1.-2.*x[1])',\n",
    "                  degree=2, alpha=alpha)\n",
    "#\n",
    "# Initial condition at time = tinit [u_D at time equal to 0]\n",
    "#\n",
    "u_0 = Expression(\"x[0]*(Lx-x[0]) + alpha*x[1]*(Ly-x[1])\", degree=2, alpha=3., Lx= xL, Ly = yL)"
   ]
  },
  {
   "cell_type": "markdown",
   "metadata": {},
   "source": [
    "### Problem at the continuous level"
   ]
  },
  {
   "cell_type": "code",
   "execution_count": 7,
   "metadata": {},
   "outputs": [],
   "source": [
    "#\n",
    "# Specify here the definition of the part of the boundary related to the Dirichlet boundary condition\n",
    "#\n",
    "\n",
    "only_Dirichlet = False\n",
    "\n",
    "def Gamma_D(x, on_boundary):\n",
    "    \"\"\"\n",
    "    This function should return a boolean value equal to true or false according to whether the point x \n",
    "    belongs to Gamma_D or not. \n",
    "    \"\"\"\n",
    "    if only_Dirichlet:\n",
    "        return on_boundary\n",
    "    else:\n",
    "        return near(x[1], DOLFIN_EPS) or near(x[0], DOLFIN_EPS) or near(x[0], 2.) and on_boundary"
   ]
  },
  {
   "cell_type": "markdown",
   "metadata": {},
   "source": [
    "### Problem at the discrete level in space and time"
   ]
  },
  {
   "cell_type": "code",
   "execution_count": 8,
   "metadata": {},
   "outputs": [
    {
     "name": "stdout",
     "output_type": "stream",
     "text": [
      "Time spent in the meshing procedure:  0.000801477000000439\n",
      "Time spent in the finite element assembly procedure:  0.05605333899999998\n"
     ]
    },
    {
     "data": {
      "text/plain": [
       "Text(0.5, 1.05, 'Sparsity pattern of the implicit matrix')"
      ]
     },
     "execution_count": 8,
     "metadata": {},
     "output_type": "execute_result"
    },
    {
     "data": {
      "image/png": "[encoded data removed]",
      "text/plain": [
       "<Figure size 432x288 with 1 Axes>"
      ]
     },
     "metadata": {
      "needs_background": "light"
     },
     "output_type": "display_data"
    }
   ],
   "source": [
    "#\n",
    "# Finite Element Space and Time discretization of the weak formulation\n",
    "# \n",
    "\n",
    "# Generate the computational mesh \n",
    "# Here is the simplest way to discretize a rectangular domain with nx and ny rectangles in directions x and y,\n",
    "# respectively. \n",
    "# The 'crossed' argument specifies that each rectangle will be divided into four triangles. \n",
    "\n",
    "meshing_start         = time.perf_counter()\n",
    "mesh                  = RectangleMesh(Point(x0,y0), Point(xL,yL), nx, ny,'crossed')\n",
    "meshing_time          = time.perf_counter()-meshing_start\n",
    "\n",
    "# If the domain is the unit square, you may want to use instead\n",
    "# mesh = UnitSquareMesh(nx, ny, 'crossed')\n",
    "    \n",
    "# Select the FE approximation space of Lagrange type\n",
    "V = FunctionSpace(mesh, \"Lagrange\", deg)\n",
    " \n",
    "# Specify the Dirichlet boundary conditions \n",
    "bc = DirichletBC(V, u_D, Gamma_D)\n",
    "\n",
    "#\n",
    "# Define initial value or previous value \n",
    "#\n",
    "u_n = interpolate(u_0, V)\n",
    "\n",
    "#    \n",
    "# Discretization in space of the weak formulation \n",
    "#\n",
    "assembly_start = time.perf_counter()\n",
    "\n",
    "u = TrialFunction(V)\n",
    "v = TestFunction(V)\n",
    "\n",
    "#\n",
    "# Complete variational formulation corresponding to the theta-scheme\n",
    "#\n",
    "# Simplification here due to a time-independent term for the source terms ! \n",
    "#\n",
    "\n",
    "F = u*v*dx + theta*dt*dot(grad(u), grad(v))*dx - (u_n + dt*f)*v*dx + \\\n",
    "    (1.-theta)*dt*dot(grad(u_n), grad(v))*dx - dt*u_N*v*ds\n",
    "#\n",
    "# Deduce the bilinear and linear forms\n",
    "#\n",
    "\n",
    "a, L   = lhs(F), rhs(F)\n",
    "A,b    = assemble_system(a,L,bc)\n",
    "\n",
    "assembly_time = time.perf_counter()-assembly_start\n",
    "\n",
    "\n",
    "#\n",
    "# Timings\n",
    "#\n",
    "\n",
    "print(\"Time spent in the meshing procedure: \",meshing_time)\n",
    "print(\"Time spent in the finite element assembly procedure: \",assembly_time)\n",
    "\n",
    "#\n",
    "# Sparsity pattern of B\n",
    "# \n",
    "plt.figure()\n",
    "plt.spy(sps.csr_matrix(A.array()))\n",
    "plt.title(\"Sparsity pattern of the implicit matrix\")"
   ]
  },
  {
   "cell_type": "markdown",
   "metadata": {},
   "source": [
    "### Numerical approximation of the space-time solution"
   ]
  },
  {
   "cell_type": "code",
   "execution_count": 9,
   "metadata": {},
   "outputs": [
    {
     "name": "stdout",
     "output_type": "stream",
     "text": [
      "t = 0.05: error = 8.57e-14\n",
      "t = 0.10: error = 1.15e-13\n",
      "t = 0.15: error = 1.73e-13\n",
      "t = 0.20: error = 1.9e-13\n",
      "t = 0.25: error = 2.34e-13\n",
      "t = 0.30: error = 2.41e-13\n",
      "t = 0.35: error = 2.73e-13\n",
      "t = 0.40: error = 2.73e-13\n",
      "t = 0.45: error = 2.97e-13\n",
      "t = 0.50: error = 2.92e-13\n",
      "Timestep 10 Time 5.000e-01\n",
      "t = 0.55: error = 3.11e-13\n",
      "t = 0.60: error = 3.03e-13\n",
      "t = 0.65: error = 3.2e-13\n",
      "t = 0.70: error = 3.1e-13\n",
      "t = 0.75: error = 3.25e-13\n",
      "t = 0.80: error = 3.15e-13\n",
      "t = 0.85: error = 3.28e-13\n",
      "t = 0.90: error = 3.17e-13\n",
      "t = 0.95: error = 3.3e-13\n",
      "t = 1.00: error = 3.19e-13\n",
      "Timestep 20 Time 1.000e+00\n",
      "t = 1.05: error = 3.3e-13\n",
      "t = 1.10: error = 3.2e-13\n",
      "t = 1.15: error = 3.31e-13\n",
      "t = 1.20: error = 3.21e-13\n",
      "t = 1.25: error = 3.31e-13\n",
      "t = 1.30: error = 3.22e-13\n",
      "t = 1.35: error = 3.31e-13\n",
      "t = 1.40: error = 3.23e-13\n",
      "t = 1.45: error = 3.32e-13\n",
      "t = 1.50: error = 3.23e-13\n",
      "Timestep 30 Time 1.500e+00\n",
      "t = 1.55: error = 3.31e-13\n",
      "t = 1.60: error = 3.24e-13\n",
      "t = 1.65: error = 3.32e-13\n",
      "t = 1.70: error = 3.24e-13\n",
      "t = 1.75: error = 3.32e-13\n",
      "t = 1.80: error = 3.25e-13\n",
      "t = 1.85: error = 3.32e-13\n",
      "t = 1.90: error = 3.26e-13\n",
      "t = 1.95: error = 3.32e-13\n",
      "t = 2.00: error = 3.26e-13\n",
      "Timestep 40 Time 2.000e+00\n",
      "t = 2.05: error = 3.32e-13\n",
      "t = 2.10: error = 3.27e-13\n",
      "t = 2.15: error = 3.32e-13\n",
      "t = 2.20: error = 3.28e-13\n",
      "t = 2.25: error = 3.32e-13\n",
      "t = 2.30: error = 3.28e-13\n",
      "t = 2.35: error = 3.32e-13\n",
      "t = 2.40: error = 3.29e-13\n",
      "t = 2.45: error = 3.32e-13\n",
      "t = 2.50: error = 3.29e-13\n",
      "Timestep 50 Time 2.500e+00\n",
      "t = 2.55: error = 3.31e-13\n",
      "t = 2.60: error = 3.29e-13\n",
      "t = 2.65: error = 3.32e-13\n",
      "t = 2.70: error = 3.29e-13\n",
      "t = 2.75: error = 3.32e-13\n",
      "t = 2.80: error = 3.29e-13\n",
      "t = 2.85: error = 3.32e-13\n",
      "t = 2.90: error = 3.29e-13\n",
      "t = 2.95: error = 3.31e-13\n",
      "t = 3.00: error = 3.28e-13\n",
      "Timestep 60 Time 3.000e+00\n",
      "t = 3.05: error = 3.31e-13\n",
      "t = 3.10: error = 3.29e-13\n",
      "t = 3.15: error = 3.32e-13\n",
      "t = 3.20: error = 3.29e-13\n",
      "t = 3.25: error = 3.32e-13\n",
      "t = 3.30: error = 3.28e-13\n",
      "t = 3.35: error = 3.32e-13\n",
      "t = 3.40: error = 3.28e-13\n",
      "t = 3.45: error = 3.32e-13\n",
      "t = 3.50: error = 3.28e-13\n",
      "Timestep 70 Time 3.500e+00\n",
      "t = 3.55: error = 3.32e-13\n",
      "t = 3.60: error = 3.28e-13\n",
      "t = 3.65: error = 3.33e-13\n",
      "t = 3.70: error = 3.28e-13\n",
      "t = 3.75: error = 3.33e-13\n",
      "t = 3.80: error = 3.28e-13\n",
      "t = 3.85: error = 3.32e-13\n",
      "t = 3.90: error = 3.28e-13\n",
      "t = 3.95: error = 3.32e-13\n",
      "t = 4.00: error = 3.27e-13\n",
      "Timestep 80 Time 4.000e+00\n"
     ]
    }
   ],
   "source": [
    "#\n",
    "# Numerical Approximation of the space-time solution\n",
    "#\n",
    "t     = tinit\n",
    "tstep = 0\n",
    "\n",
    "\n",
    "# Store the initial condition if required\n",
    "u_n.rename(\"u\", \"Temperature\") \n",
    "if movie: vtkfile << u_n\n",
    "\n",
    "#\n",
    "# Time-integration \n",
    "#\n",
    "u = Function(V, name=\"u\")\n",
    "#\n",
    "# Define which type of iterative solver we want to use\n",
    "#\n",
    "#solver                                   = PETScKrylovSolver('cg','hypre_amg')\n",
    "#solver.ksp().setGMRESRestart(restart)\n",
    "#restart                                  = 20\n",
    "solver                                    = LUSolver(A)\n",
    "#solver                                    = PETScLUSolver('mumps')\n",
    "#solver.parameters['reuse_factorization']  = True \n",
    "#solver.parameters[\"monitor_convergence\"] = True\n",
    "#solver.parameters['relative_tolerance']  = 1e-3\n",
    "\n",
    "\n",
    "while t + dt <= tfinal:\n",
    "    t     += dt\n",
    "    tstep += 1\n",
    "    u_D.t  = t\n",
    "        \n",
    "    # Solve the linear system to obtain the approximation of the solution at time t\n",
    "    # We use assemble_system to keep symmetry\n",
    "    A, b = assemble_system(a, L, bc)\n",
    "    \n",
    "    \n",
    "    # We call the specific solver here\n",
    "    solver.solve(A,u.vector(),b)\n",
    "    \n",
    "    # Store the current solution if required\n",
    "    if movie: vtkfile << u\n",
    "    \n",
    "    # Compute error at vertices\n",
    "    #if only_Dirichlet:\n",
    "    u_e   = interpolate(u_D, V)\n",
    "    error = np.abs(u_e.vector() - u.vector()).max()\n",
    "    print('t = %.2f: error = %.3g' % (t, error))\n",
    "  \n",
    "    # Prepare the next iteration in time \n",
    "    u_n.assign(u)\n",
    "    \n",
    "    # Monitor the time integration\n",
    "    if tstep%10 == 0:\n",
    "       print(\"Timestep %g\"% tstep, \"Time %2.3e\" %t)"
   ]
  },
  {
   "cell_type": "markdown",
   "metadata": {},
   "source": [
    "### Post-processing"
   ]
  },
  {
   "cell_type": "code",
   "execution_count": 10,
   "metadata": {},
   "outputs": [
    {
     "name": "stdout",
     "output_type": "stream",
     "text": [
      "3281\n"
     ]
    },
    {
     "data": {
      "text/plain": [
       "[<matplotlib.lines.Line2D at 0x11539e240>,\n",
       " <matplotlib.lines.Line2D at 0x1141f4ef0>]"
      ]
     },
     "execution_count": 10,
     "metadata": {},
     "output_type": "execute_result"
    },
    {
     "data": {
      "image/png": "[encoded data removed]",
      "text/plain": [
       "<Figure size 432x288 with 1 Axes>"
      ]
     },
     "metadata": {
      "needs_background": "light"
     },
     "output_type": "display_data"
    }
   ],
   "source": [
    "#\n",
    "# We plot the finite element mesh\n",
    "# \n",
    "print(u.vector().size())\n",
    "plot(mesh)"
   ]
  },
  {
   "cell_type": "code",
   "execution_count": 11,
   "metadata": {
    "scrolled": false
   },
   "outputs": [
    {
     "data": {
      "text/plain": [
       "Text(0.5, 1.0, 'Solution of the heat equation at final time')"
      ]
     },
     "execution_count": 11,
     "metadata": {},
     "output_type": "execute_result"
    },
    {
     "data": {
      "image/png": "[encoded data removed]",
      "text/plain": [
       "<Figure size 432x288 with 1 Axes>"
      ]
     },
     "metadata": {
      "needs_background": "light"
     },
     "output_type": "display_data"
    }
   ],
   "source": [
    "#\n",
    "# A very basic post-processing\n",
    "# We plot the solution at final time\n",
    "#\n",
    "plt.figure()\n",
    "plot(u)\n",
    "plt.xlabel('x')\n",
    "plt.ylabel('y')\n",
    "plt.title('Solution of the heat equation at final time')\n",
    "#\n",
    "# If movie=True, paraview can be used to read the file (evolution of the solution versus time)\n",
    "#"
   ]
  },
  {
   "cell_type": "markdown",
   "metadata": {},
   "source": [
    "### Feedback / Your comments or notes"
   ]
  },
  {
   "cell_type": "code",
   "execution_count": null,
   "metadata": {},
   "outputs": [],
   "source": []
  },
  {
   "cell_type": "markdown",
   "metadata": {},
   "source": [
    "# Further information\n",
    "\n",
    "- <a href=\"https://fenicsproject.org\">FEniCS website</a>. \n",
    "\n",
    "- <a href=\"https://fenicsproject.org/tutorial\">FEniCS tutorials</a>."
   ]
  }
 ],
 "metadata": {
  "anaconda-cloud": {},
  "kernelspec": {
   "display_name": "Python 3",
   "language": "python",
   "name": "python3"
  },
  "language_info": {
   "codemirror_mode": {
    "name": "ipython",
    "version": 3
   },
   "file_extension": ".py",
   "mimetype": "text/x-python",
   "name": "python",
   "nbconvert_exporter": "python",
   "pygments_lexer": "ipython3",
   "version": "3.7.3"
  }
 },
 "nbformat": 4,
 "nbformat_minor": 2
}
