{
 "cells": [
  {
   "cell_type": "markdown",
   "metadata": {},
   "source": [
    "## SCRIMP: Partitioned Finite Element Method (PFEM) for port-Hamiltonian systems with boundary damping: anisotropic heterogeneous heat equation in two dimensions"
   ]
  },
  {
   "cell_type": "markdown",
   "metadata": {},
   "source": [
    "<b>Goal</b>: This <a href=\"https://jupyter.org\"> Jupyter</a> notebook aims at illustrating the use of the Partitioned Finite Element Method (PFEM) to discretize a port-Hamiltonian system related to the two-dimensional heat equation. We specifically learn how to define the problem inside SCRIMP. This notebook is related to the companion paper \"Anisotropic heterogeneous n-D heat equation with boundary control and observation: II. Structure-preserving discretization\" by A. Serhani, D. Matignon and G. Haine, (2019). \n",
    "\n",
    "<b>Note</b>: a cell is made active by first clicking on the left part of the web page (a blue vertical line appears) and then pushing Shift+Enter. \n",
    "\n",
    "<b>Note</b>: The next cell has to be activated only once and specifies the Python libraries we will use in this notebook. A basic knowledge of Python is only expected to understand the code used in the cells.  "
   ]
  },
  {
   "cell_type": "code",
   "execution_count": 1,
   "metadata": {},
   "outputs": [
    {
     "name": "stderr",
     "output_type": "stream",
     "text": [
      "Could not find GLIMDA.\n"
     ]
    }
   ],
   "source": [
    "#\n",
    "# To allow plots within the Notebook \n",
    "#\n",
    "%matplotlib inline\n",
    "\n",
    "# Import here the standard Python libraries used in the Notebook\n",
    "import matplotlib.pyplot as plt\n",
    "\n",
    "import numpy as np\n",
    "from scipy import linalg, show_config\n",
    "import sys \n",
    "import time\n",
    "\n",
    "from dolfin import *\n",
    "from mshr import *\n",
    "\n",
    "\n",
    "# Import here the classes related to SCRIMP\n",
    "from Heat import Heat_2D\n"
   ]
  },
  {
   "cell_type": "markdown",
   "metadata": {},
   "source": [
    "### Python version"
   ]
  },
  {
   "cell_type": "code",
   "execution_count": 2,
   "metadata": {},
   "outputs": [
    {
     "name": "stdout",
     "output_type": "stream",
     "text": [
      "3.7.3 | packaged by conda-forge | (default, Mar 27 2019, 15:43:19) \n",
      "[Clang 4.0.1 (tags/RELEASE_401/final)]\n"
     ]
    }
   ],
   "source": [
    "print(sys.version)"
   ]
  },
  {
   "cell_type": "markdown",
   "metadata": {},
   "source": [
    "### <a href=\"https://fenicsproject.org\">FEniCS</a> version "
   ]
  },
  {
   "cell_type": "code",
   "execution_count": 3,
   "metadata": {
    "scrolled": true
   },
   "outputs": [
    {
     "name": "stdout",
     "output_type": "stream",
     "text": [
      "2019.1.0\n"
     ]
    }
   ],
   "source": [
    "print(dolfin.__version__)"
   ]
  },
  {
   "cell_type": "markdown",
   "metadata": {},
   "source": [
    "### <a href=\"https://fenicsproject.org\">Scipy</a> Linear algebra libraries"
   ]
  },
  {
   "cell_type": "code",
   "execution_count": 4,
   "metadata": {
    "scrolled": true
   },
   "outputs": [
    {
     "name": "stdout",
     "output_type": "stream",
     "text": [
      "mkl_info:\n",
      "  NOT AVAILABLE\n",
      "lapack_mkl_info:\n",
      "  NOT AVAILABLE\n",
      "openblas_lapack_info:\n",
      "    libraries = ['blas', 'cblas', 'lapack', 'blas', 'cblas', 'lapack']\n",
      "    library_dirs = ['/Users/vasseur/Software/anaconda3/envs/fenicsproject/lib']\n",
      "    language = f77\n",
      "lapack_opt_info:\n",
      "    libraries = ['blas', 'cblas', 'lapack', 'blas', 'cblas', 'lapack', 'blas', 'cblas', 'lapack']\n",
      "    library_dirs = ['/Users/vasseur/Software/anaconda3/envs/fenicsproject/lib']\n",
      "    language = f77\n",
      "blas_mkl_info:\n",
      "  NOT AVAILABLE\n",
      "system_info:\n",
      "  NOT AVAILABLE\n",
      "openblas_info:\n",
      "    libraries = ['blas', 'cblas', 'lapack', 'blas', 'cblas', 'lapack']\n",
      "    library_dirs = ['/Users/vasseur/Software/anaconda3/envs/fenicsproject/lib']\n",
      "    language = f77\n",
      "blas_opt_info:\n",
      "    libraries = ['blas', 'cblas', 'lapack', 'blas', 'cblas', 'lapack', 'blas', 'cblas', 'lapack']\n",
      "    library_dirs = ['/Users/vasseur/Software/anaconda3/envs/fenicsproject/lib']\n",
      "    language = f77\n",
      "None\n"
     ]
    }
   ],
   "source": [
    "print(show_config())"
   ]
  },
  {
   "cell_type": "markdown",
   "metadata": {},
   "source": [
    "# Anisotropic heterogeneous 2D heat equation with boundary control and observation:\n",
    "\n",
    "\n",
    "We consider the two-dimensional heterogeneous anisotropic heat equation defined for all $t\\ge 0$ as\n",
    "$$\n",
    "\\begin{array}{ll} \n",
    "    \\rho(\\boldsymbol x)\\, C_V(t,\\boldsymbol x) \\displaystyle \\frac{\\partial}{\\partial t} T(t,\\boldsymbol x) &=& \\text{div}\\Big(\\overline{\\overline \\lambda}(\\boldsymbol x)\\cdot\\textbf{grad} \\ T(t,\\boldsymbol x)\\Big), \\quad \\boldsymbol x \\in \\Omega, \\\\\n",
    "    Z(\\boldsymbol x)~(\\overline{\\overline T}(\\boldsymbol x)\\cdot\\textbf{grad} \\ w(t,\\boldsymbol x)) \\cdot {\\bf{n}} + \n",
    "    {\\partial_t} T(t,\\boldsymbol x) & = & 0,      \\quad \\boldsymbol x \\in \\partial \\Omega, \\\\ \n",
    "    T(0, \\boldsymbol x)             & = & T_0(x), \\quad \\boldsymbol x \\in \\Omega, t=0 \\\\\n",
    "\\end{array}\n",
    "$$\n",
    "with $\\Omega \\subset \\mathbb{R}^2$ an open bounded spatial domain with Lipschitz-continuous boundary $\\delta \\Omega$. \n",
    "\n",
    "$T(t,\\boldsymbol x)$ denotes the temperature at point $\\boldsymbol x \\in \\Omega $ and time $t$. $\\rho \\in L^{\\infty}(\\Omega)$ (positive and bounded from below) denotes the mass density, $\\overline{\\overline \\lambda} \\in L^{\\infty}(\\Omega)^{2\\times 2}$ (symmetric and coercive) the thermal conductivity. \n"
   ]
  },
  {
   "cell_type": "markdown",
   "metadata": {},
   "source": [
    "<b>Structure of this part</b>: This notebook first defines the continuous problem by using a specific class of SCRIMP related to the heat equation in two dimensions. Then we tackle the discretization in space of the port-Hamiltonian system through the PFEM methodology. This discretization leads to a DAE formulation. After time discretization, we perform a numerical simulation to obtain an approximation of the space-time solution. Finally a simple postprocessing is performed. "
   ]
  },
  {
   "cell_type": "markdown",
   "metadata": {},
   "source": [
    "### Class object related to the PDE heat equation"
   ]
  },
  {
   "cell_type": "code",
   "execution_count": 5,
   "metadata": {},
   "outputs": [],
   "source": [
    "H = Heat_2D()"
   ]
  },
  {
   "cell_type": "markdown",
   "metadata": {},
   "source": [
    "### Constants and parameters "
   ]
  },
  {
   "cell_type": "code",
   "execution_count": 6,
   "metadata": {},
   "outputs": [],
   "source": [
    "#\n",
    "# Define constants related to the definition of the geometric rectangular domain\n",
    "#\n",
    "x0, xL, y0, yL = 0., 2., 0., 1.\n",
    "#\n",
    "# Define constants related to the time discretization [tclose is set but not used here]\n",
    "#\n",
    "tinit  = 0.\n",
    "tfinal = 2.\n",
    "tclose = 2.\n",
    "#\n",
    "# Define the parameters related to the time discretization [theta is set but not used here]\n",
    "# \n",
    "dt     = 1.e-2\n",
    "theta  = 0.5\n",
    "#\n",
    "# Specify the method to be used for the time integration\n",
    "#\n",
    "time_method = 'ODE:Assimulo'"
   ]
  },
  {
   "cell_type": "markdown",
   "metadata": {},
   "source": [
    "### FEniCS expressions definition"
   ]
  },
  {
   "cell_type": "code",
   "execution_count": 7,
   "metadata": {},
   "outputs": [],
   "source": [
    "#\n",
    "# Define Fenics Expressions \n",
    "#\n",
    "\n",
    "# Mass density (TBC: role of xL in this expression)\n",
    "Rho    = 'x[0]* (2.-x[0])+ x[1]* (1.-x[1]) + 1'\n",
    "\n",
    "# Thermal conductivity \n",
    "T11    = '5. + x[0]*x[1]'\n",
    "T12    = '(x[0]-x[1])*(x[0]-x[1])'\n",
    "T22    = '3.+x[1]/(x[0]+1)'\n",
    "\n",
    "# Isochoric heat capacity\n",
    "Cv      = '3.'\n",
    "  \n",
    "# Initial conditions    \n",
    "amplitude, sX, sY, X0, Y0  = 3., (xL-x0)/12., (yL-y0)/12., (xL-x0)/2., (yL-y0)/2. \n",
    "T0     = 'amplitude * exp(- pow( (x[0]-X0)/sX, 2) - pow( (x[1]-Y0)/sY, 2) )'\n",
    "Fq_0_1 = '0'\n",
    "Fq_0_2 = '0'\n",
    "Eq_0_1 = '0'\n",
    "Eq_0_2 = '0' \n",
    "\n",
    "# Boundary control function that controls the time derivative on the whole boundary  \n",
    "# Geometrical part as a FEniCS expression\n",
    "boundary_cntrl_space = 'x[0] + x[1]'\n",
    "\n",
    "# Time part of the control defined as a pure Python function\n",
    "def boundary_cntrl_time(t,close_time):\n",
    "    \"\"\"\n",
    "    Specify here the time part of the boundary control as a pure Python function \n",
    "    \"\"\"        \n",
    "    if t <= close_time:\n",
    "        return 2.*t/(t+1.)\n",
    "    else:\n",
    "        return 0."
   ]
  },
  {
   "cell_type": "markdown",
   "metadata": {},
   "source": [
    "### Problem at the continuous level"
   ]
  },
  {
   "cell_type": "code",
   "execution_count": 8,
   "metadata": {},
   "outputs": [],
   "source": [
    "#\n",
    "# Problem definition at the continous level\n",
    "#\n",
    "   \n",
    "# Select the domain as a rectangular domain of shape [x0, xL] x [y0, yL]    \n",
    "H.Set_rectangular_domain(x0, xL, y0, yL)\n",
    " \n",
    "# Specify the physical parameters    \n",
    "H.Set_physical_parameters(Rho, T11, T12, T22)\n",
    "    \n",
    "# Specify the isochoric heat capacity\n",
    "H.Set_isochoric_heat_capacity(Cv)\n",
    "  \n",
    "# Specify the initial conditions related to [TBC]\n",
    "    \n",
    "# Specify the boundary control function (space) \n",
    "H.Set_boundary_cntrl_space(boundary_cntrl_space)\n",
    "\n",
    "# Specify the boundary control function (time)\n",
    "# If nothing is specified, the control is only space dependent\n",
    "# otherwise it corresponds to the product of the two space and time functions.\n",
    "H.Set_boundary_cntrl_time(boundary_cntrl_time)\n",
    "\n",
    "# Specify the initial, closing and final time\n",
    "H.Set_initial_close_final_time(tinit,tclose,tfinal)\n",
    "   \n",
    "# Check    \n",
    "assert H.Check_Problem_Definition() == 1, \"Problem definition to be checked again !\""
   ]
  },
  {
   "cell_type": "markdown",
   "metadata": {},
   "source": [
    "### Problem at the discrete level in space and time"
   ]
  },
  {
   "cell_type": "code",
   "execution_count": 9,
   "metadata": {},
   "outputs": [],
   "source": [
    "#\n",
    "# Finite Element Space and Time discretization of the weak formulation\n",
    "# \n",
    "  \n",
    "# Generate the computational mesh with rfn as a refinement parameter on the whole boundary    \n",
    "H.Generate_mesh(rfn=4)\n",
    "    \n",
    "# Select the FE approximation spaces of Raviart-Thomas type\n",
    "H.Set_FE_Approximation_Spaces(family_q='RT', family_p='P', family_b='P', family_l='P',\\\n",
    "                              rt_order=1, p_order=2, b_order=2, l_order=2)\n",
    "    \n",
    "# Discretization in space of the weak formulation with PFEM    \n",
    "H.Apply_PFEM_formulation()\n",
    "  \n",
    "# Interpolate the initial data on the appropriate FE spaces\n",
    "H.Project_initial_data_FE_spaces(T0, Fq_0_1, Fq_0_2, Eq_0_1, Eq_0_2,   \n",
    "                                 amplitude  = Constant(amplitude), \n",
    "                                 sX=Constant(sX), sY=Constant(sY),\n",
    "                                 X0=Constant(X0), Y0=Constant(Y0))\n",
    "   \n",
    "# Specify the parameters related to the time discretization\n",
    "H.Set_time_setting(dt, theta, time_method)\n",
    " \n",
    "# Check\n",
    "assert H.Check_Space_Time_Discretization() == 1, \"Space and time discretization to be checked again !\""
   ]
  },
  {
   "cell_type": "markdown",
   "metadata": {},
   "source": [
    "### Numerical approximation of the space-time solution"
   ]
  },
  {
   "cell_type": "code",
   "execution_count": 10,
   "metadata": {},
   "outputs": [
    {
     "name": "stdout",
     "output_type": "stream",
     "text": [
      "ODE Integration using assimulo built-in functions:\n",
      "Final Run Statistics: --- \n",
      "\n",
      " Number of steps                                 : 68\n",
      " Number of function evaluations                  : 87\n",
      " Number of Jacobian*vector evaluations           : 307\n",
      " Number of function eval. due to Jacobian eval.  : 307\n",
      " Number of error test failures                   : 0\n",
      " Number of nonlinear iterations                  : 83\n",
      " Number of nonlinear convergence failures        : 3\n",
      "\n",
      "Solver options:\n",
      "\n",
      " Solver                   : CVode\n",
      " Linear multistep method  : BDF\n",
      " Nonlinear solver         : Newton\n",
      " Linear solver type       : SPGMR\n",
      " Maximal order            : 3\n",
      " Tolerances (absolute)    : 0.001\n",
      " Tolerances (relative)    : 0.001\n",
      "\n",
      "Simulation interval    : 0.0 - 2.0 seconds.\n",
      "Elapsed simulation time: 0.6730187639999983 seconds.\n"
     ]
    }
   ],
   "source": [
    "#\n",
    "# Numerical Approximation of the space-time solution\n",
    "#\n",
    "Ham, t_span = H.Time_integration(time_method)"
   ]
  },
  {
   "cell_type": "code",
   "execution_count": 11,
   "metadata": {},
   "outputs": [
    {
     "name": "stdout",
     "output_type": "stream",
     "text": [
      "DAE Integration using assimulo built-in functions:\n",
      "Final Run Statistics: --- \n",
      "\n",
      " Number of steps                                 : 129\n",
      " Number of function evaluations                  : 171\n",
      " Number of Jacobian evaluations                  : 19\n",
      " Number of function eval. due to Jacobian eval.  : 11191\n",
      " Number of error test failures                   : 5\n",
      " Number of nonlinear iterations                  : 171\n",
      " Number of nonlinear convergence failures        : 0\n",
      "\n",
      "Solver options:\n",
      "\n",
      " Solver                       : IDA (BDF)\n",
      " Maximal order                : 5\n",
      " Suppressed algebr. variables : True\n",
      " Tolerances (absolute)        : 1e-06\n",
      " Tolerances (relative)        : 1e-06\n",
      "\n",
      "Simulation interval    : 0.0 - 2.0 seconds.\n",
      "Elapsed simulation time: 6.55648261 seconds.\n",
      "Final Run Statistics: --- \n",
      "\n",
      " Number of steps                                 : 129\n",
      " Number of function evaluations                  : 171\n",
      " Number of Jacobian evaluations                  : 19\n",
      " Number of function eval. due to Jacobian eval.  : 11191\n",
      " Number of error test failures                   : 5\n",
      " Number of nonlinear iterations                  : 171\n",
      " Number of nonlinear convergence failures        : 0\n",
      "\n",
      "Solver options:\n",
      "\n",
      " Solver                       : IDA (BDF)\n",
      " Maximal order                : 5\n",
      " Suppressed algebr. variables : True\n",
      " Tolerances (absolute)        : 1e-06\n",
      " Tolerances (relative)        : 1e-06\n",
      "\n",
      "None\n"
     ]
    }
   ],
   "source": [
    "time_method   = 'DAE:Assimulo'\n",
    "H.Set_time_setting(dt, theta, time_method)\n",
    "Ham_dae, t_span_dae = H.Time_integration(time_method) "
   ]
  },
  {
   "cell_type": "code",
   "execution_count": 12,
   "metadata": {},
   "outputs": [
    {
     "name": "stdout",
     "output_type": "stream",
     "text": [
      "DAE Integration using assimulo built-in functions:\n",
      "Final Run Statistics: --- \n",
      "\n",
      " Number of steps                                 : 161\n",
      " Number of function evaluations                  : 207\n",
      " Number of Jacobian evaluations                  : 25\n",
      " Number of function eval. due to Jacobian eval.  : 3725\n",
      " Number of error test failures                   : 7\n",
      " Number of nonlinear iterations                  : 207\n",
      " Number of nonlinear convergence failures        : 0\n",
      "\n",
      "Solver options:\n",
      "\n",
      " Solver                       : IDA (BDF)\n",
      " Maximal order                : 5\n",
      " Suppressed algebr. variables : True\n",
      " Tolerances (absolute)        : 1e-06\n",
      " Tolerances (relative)        : 1e-06\n",
      "\n",
      "Simulation interval    : 0.0 - 2.0 seconds.\n",
      "Elapsed simulation time: 0.4913559939999992 seconds.\n",
      "Final Run Statistics: --- \n",
      "\n",
      " Number of steps                                 : 161\n",
      " Number of function evaluations                  : 207\n",
      " Number of Jacobian evaluations                  : 25\n",
      " Number of function eval. due to Jacobian eval.  : 3725\n",
      " Number of error test failures                   : 7\n",
      " Number of nonlinear iterations                  : 207\n",
      " Number of nonlinear convergence failures        : 0\n",
      "\n",
      "Solver options:\n",
      "\n",
      " Solver                       : IDA (BDF)\n",
      " Maximal order                : 5\n",
      " Suppressed algebr. variables : True\n",
      " Tolerances (absolute)        : 1e-06\n",
      " Tolerances (relative)        : 1e-06\n",
      "\n",
      "None\n"
     ]
    }
   ],
   "source": [
    "time_method   = 'DAE:Assimulo:Lagrangian'\n",
    "H.Set_time_setting(dt, theta, time_method)\n",
    "Ham_dae_l, t_span_dae_l = H.Time_integration(time_method) "
   ]
  },
  {
   "cell_type": "markdown",
   "metadata": {},
   "source": [
    "### Post-processing"
   ]
  },
  {
   "cell_type": "code",
   "execution_count": 13,
   "metadata": {
    "scrolled": false
   },
   "outputs": [
    {
     "data": {
      "image/png": "[encoded data removed]",
      "text/plain": [
       "<Figure size 432x288 with 1 Axes>"
      ]
     },
     "metadata": {
      "needs_background": "light"
     },
     "output_type": "display_data"
    }
   ],
   "source": [
    "# Specify the mode\n",
    "H.notebook = True\n",
    "\n",
    "# Plot of the mesh with corresponding DOFs\n",
    "H.plot_mesh_with_DOFs()    "
   ]
  },
  {
   "cell_type": "code",
   "execution_count": 14,
   "metadata": {
    "scrolled": false
   },
   "outputs": [
    {
     "data": {
      "image/png": "[encoded data removed]",
      "text/plain": [
       "<Figure size 432x288 with 1 Axes>"
      ]
     },
     "metadata": {
      "needs_background": "light"
     },
     "output_type": "display_data"
    }
   ],
   "source": [
    "# Plot of the Hamiltonian function versus time\n",
    "H.plot_Hamiltonian(t_span, Ham, marker='o', label='ODE')"
   ]
  },
  {
   "cell_type": "code",
   "execution_count": 15,
   "metadata": {
    "scrolled": true
   },
   "outputs": [
    {
     "data": {
      "image/png": "[encoded data removed]",
      "text/plain": [
       "<Figure size 432x288 with 1 Axes>"
      ]
     },
     "metadata": {
      "needs_background": "light"
     },
     "output_type": "display_data"
    }
   ],
   "source": [
    "# \n",
    "H.plot_Hamiltonian(t_span_dae,Ham_dae, marker='o', label='DAE')"
   ]
  },
  {
   "cell_type": "code",
   "execution_count": 16,
   "metadata": {},
   "outputs": [
    {
     "data": {
      "image/png": "[encoded data removed]",
      "text/plain": [
       "<Figure size 432x288 with 1 Axes>"
      ]
     },
     "metadata": {
      "needs_background": "light"
     },
     "output_type": "display_data"
    }
   ],
   "source": [
    "# \n",
    "H.plot_Hamiltonian(t_span_dae_l,Ham_dae_l, marker='o', label='DAE:Lagrange')"
   ]
  },
  {
   "cell_type": "code",
   "execution_count": 17,
   "metadata": {},
   "outputs": [],
   "source": [
    "# Movie shown in a new window \n",
    "\n",
    "movie = False\n",
    "\n",
    "if movie:\n",
    "    %matplotlib tk\n",
    "    W.set_video_writer()\n",
    "    W.moving_trisurf(Deflection,1,'Deflection_versus_time',save=True)\n",
    "    %matplotlib inline"
   ]
  },
  {
   "cell_type": "markdown",
   "metadata": {},
   "source": [
    "## Notes"
   ]
  },
  {
   "cell_type": "markdown",
   "metadata": {},
   "source": []
  },
  {
   "cell_type": "markdown",
   "metadata": {},
   "source": [
    "### Your comments or notes"
   ]
  },
  {
   "cell_type": "code",
   "execution_count": null,
   "metadata": {},
   "outputs": [],
   "source": []
  },
  {
   "cell_type": "markdown",
   "metadata": {},
   "source": [
    "# Further information\n",
    "\n",
    "- \"Anisotropic heterogeneous n-D heat equation with boundary control and observation: II. Structure-preserving discretization\" by A. Serhani, D. Matignon and G. Haine, (2019).\n"
   ]
  },
  {
   "cell_type": "code",
   "execution_count": null,
   "metadata": {},
   "outputs": [],
   "source": []
  }
 ],
 "metadata": {
  "anaconda-cloud": {},
  "kernelspec": {
   "display_name": "Python 3",
   "language": "python",
   "name": "python3"
  },
  "language_info": {
   "codemirror_mode": {
    "name": "ipython",
    "version": 3
   },
   "file_extension": ".py",
   "mimetype": "text/x-python",
   "name": "python",
   "nbconvert_exporter": "python",
   "pygments_lexer": "ipython3",
   "version": "3.7.3"
  }
 },
 "nbformat": 4,
 "nbformat_minor": 2
}
