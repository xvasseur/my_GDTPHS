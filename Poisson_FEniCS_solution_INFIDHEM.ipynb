{
 "cells": [
  {
   "cell_type": "markdown",
   "metadata": {},
   "source": [
    "## Finite Element Method (FEM) discretization of the Poisson equation in two dimensions with FEniCS"
   ]
  },
  {
   "cell_type": "markdown",
   "metadata": {},
   "source": [
    "<b>Goal</b>: This <a href=\"https://jupyter.org\"> Jupyter</a> notebook aims at illustrating the use of FEniCS to discretize a Poisson equation in two dimensions. We specifically learn how to define the problem inside FEniCS. \n",
    "\n",
    "<b>Note</b>: a cell is made active by first clicking on the left part of the web page (a blue vertical line appears) and then pushing Shift+Enter. \n",
    "\n",
    "<b>Note</b>: The next cell has to be activated only once and specifies the Python libraries we will use in this notebook. A basic knowledge of Python is only expected to understand the code used in the cells.  "
   ]
  },
  {
   "cell_type": "code",
   "execution_count": 1,
   "metadata": {},
   "outputs": [],
   "source": [
    "#\n",
    "# To allow plots within the Notebook \n",
    "#\n",
    "%matplotlib inline\n",
    "#\n",
    "# Import here the standard Python libraries used in the Notebook\n",
    "#\n",
    "import matplotlib.pyplot as plt\n",
    "import numpy as np\n",
    "from scipy import *\n",
    "import scipy.sparse as sps\n",
    "import sys\n",
    "import time\n",
    "#\n",
    "# Import FEniCS related libraries\n",
    "#\n",
    "from fenics import *\n",
    "import dolfin as df"
   ]
  },
  {
   "cell_type": "markdown",
   "metadata": {},
   "source": [
    "### Python version"
   ]
  },
  {
   "cell_type": "code",
   "execution_count": 2,
   "metadata": {},
   "outputs": [
    {
     "name": "stdout",
     "output_type": "stream",
     "text": [
      "3.7.3 | packaged by conda-forge | (default, Mar 27 2019, 15:43:19) \n",
      "[Clang 4.0.1 (tags/RELEASE_401/final)]\n"
     ]
    }
   ],
   "source": [
    "print(sys.version)"
   ]
  },
  {
   "cell_type": "markdown",
   "metadata": {},
   "source": [
    "### <a href=\"https://fenicsproject.org\">FEniCS</a> version "
   ]
  },
  {
   "cell_type": "code",
   "execution_count": 3,
   "metadata": {},
   "outputs": [
    {
     "name": "stdout",
     "output_type": "stream",
     "text": [
      "2019.1.0\n"
     ]
    }
   ],
   "source": [
    "print(df.__version__)"
   ]
  },
  {
   "cell_type": "markdown",
   "metadata": {},
   "source": [
    "### <a href=\"https://fenicsproject.org\">Scipy</a> Linear algebra libraries"
   ]
  },
  {
   "cell_type": "code",
   "execution_count": 4,
   "metadata": {
    "scrolled": true
   },
   "outputs": [
    {
     "name": "stdout",
     "output_type": "stream",
     "text": [
      "mkl_info:\n",
      "  NOT AVAILABLE\n",
      "lapack_mkl_info:\n",
      "  NOT AVAILABLE\n",
      "openblas_lapack_info:\n",
      "    libraries = ['blas', 'cblas', 'lapack', 'blas', 'cblas', 'lapack']\n",
      "    library_dirs = ['/Users/vasseur/Software/anaconda3/envs/fenicsproject/lib']\n",
      "    language = f77\n",
      "lapack_opt_info:\n",
      "    libraries = ['blas', 'cblas', 'lapack', 'blas', 'cblas', 'lapack', 'blas', 'cblas', 'lapack']\n",
      "    library_dirs = ['/Users/vasseur/Software/anaconda3/envs/fenicsproject/lib']\n",
      "    language = f77\n",
      "blas_mkl_info:\n",
      "  NOT AVAILABLE\n",
      "system_info:\n",
      "  NOT AVAILABLE\n",
      "openblas_info:\n",
      "    libraries = ['blas', 'cblas', 'lapack', 'blas', 'cblas', 'lapack']\n",
      "    library_dirs = ['/Users/vasseur/Software/anaconda3/envs/fenicsproject/lib']\n",
      "    language = f77\n",
      "blas_opt_info:\n",
      "    libraries = ['blas', 'cblas', 'lapack', 'blas', 'cblas', 'lapack', 'blas', 'cblas', 'lapack']\n",
      "    library_dirs = ['/Users/vasseur/Software/anaconda3/envs/fenicsproject/lib']\n",
      "    language = f77\n",
      "None\n"
     ]
    }
   ],
   "source": [
    "print(show_config())"
   ]
  },
  {
   "cell_type": "markdown",
   "metadata": {},
   "source": [
    "# A.  2D Poisson equation:\n",
    "\n",
    "\n",
    "We consider the two-dimensional Poisson equation with non-homogeneous Dirichlet boundary conditions defined as\n",
    "$$\n",
    "\\begin{array}{ll} \n",
    "     - \\text{div}\\Big(\\overline{\\overline k}(\\boldsymbol x)\\cdot {grad} \\ u(\\boldsymbol x)\\Big)&=& f , \\quad \\boldsymbol x \\in \\Omega, \\\\\n",
    "    u(\\boldsymbol x) & = & u_D(x), \\quad \\boldsymbol x \\in \\delta \\Omega,  \\\\\n",
    "\\end{array}\n",
    "$$\n",
    "with $\\Omega \\subset \\mathbb{R}^2$ an open bounded spatial domain with Lipschitz-continuous boundary $\\delta \\Omega$. \n",
    "\n",
    "$u(\\boldsymbol x)$ denotes the solution at point $\\boldsymbol x \\in \\Omega $, $u_D$ the Dirichlet condition defined on $\\boldsymbol x \\in \\partial \\Omega$.  $\\overline{\\overline k} \\in L^{\\infty}(\\Omega)$ (symmetric and coercive) denotes the tensor related to the conductivity. \n"
   ]
  },
  {
   "cell_type": "markdown",
   "metadata": {},
   "source": [
    "<b>Structure of this part </b>: This notebook first defines the continuous problem by using specific routines of FEniCS. Then we tackle the finite element discretization in space of the PDE. This discretization leads to a linear system that is solved with a direct solution method. Finally a simple postprocessing is performed. \n",
    "\n",
    "<b>Methodology</b>: To validate our implementation, we use the method of manufactured solutions. This means that we impose a solution to the PDE above (satisfying the  boundary conditions) and analytically compute the corresponding source term $f$. We later check that the computed solution is in agreement with the imposed solution. "
   ]
  },
  {
   "cell_type": "markdown",
   "metadata": {},
   "source": [
    "### Constants and parameters "
   ]
  },
  {
   "cell_type": "code",
   "execution_count": 5,
   "metadata": {},
   "outputs": [],
   "source": [
    "#\n",
    "# Define constants related to the definition of the geometric rectangular domain\n",
    "# x0, y0 are the coordinates of the bottom left point of the rectangle\n",
    "# xL, yL are the coordinates of the top right point of the rectangle\n",
    "#\n",
    "x0, xL, y0, yL = 0., 2., 0., 1.\n",
    "#\n",
    "# Number of rectangle elements to be used in each direction for the mesh construction\n",
    "#\n",
    "nx = 50\n",
    "ny = 40\n",
    "#\n",
    "# Degree of Lagrange approximation in space\n",
    "#\n",
    "deg = 2 \n",
    "#\n",
    "# Specify if the solution has to be stored in a png file for post-processing \n",
    "#\n",
    "store = True\n",
    "#\n",
    "# Boolean variable\n",
    "#\n",
    "check = True"
   ]
  },
  {
   "cell_type": "markdown",
   "metadata": {},
   "source": [
    "### FEniCS expressions definition\n",
    "To define a function, the simplest way is to use a FEniCS Expression, which expresses the formula for the function in terms of the coordinates of the point (here x[0] and x[1] in two dimensions). When applicable, the second possibility is to use a FEniCS Constant statement.  "
   ]
  },
  {
   "cell_type": "code",
   "execution_count": 6,
   "metadata": {},
   "outputs": [],
   "source": [
    "#\n",
    "# Define Fenics Expressions or Constants\n",
    "#\n",
    "\n",
    "# Piecewise constant conductivity coefficient, with possibly a high conductivity in a subrectangle\n",
    "#\n",
    "# To specify k we use a FEniCS Expression which expresses the formula in terms of the coordinates\n",
    "# of the point. The expression is a string that is parsed by a C++ compiler and so must be written in C++.\n",
    "# degree is the degree of quadrature to be used later for k in the assembly process. \n",
    "\n",
    "k  = Expression('x[0] + x[1]',degree=2)\n",
    "\n",
    "# We give here a more involved example for defining k with variable values in the domain. \n",
    "# DOLFIN_EPS is the machine precision used in FEniCS.\n",
    "# Here we specify two different subdomains and may assign different values depending on the location. \n",
    "# k  = Expression(\"x[0] > .5 - DOLFIN_EPS && x[0] < 1.25 + DOLFIN_EPS && x[1] < .75 + DOLFIN_EPS && x[1] > .5 - DOLFIN_EPS ? 100. : 1.\", degree=4)\n",
    "#\n",
    "# Source term\n",
    "# We use a Constant here due to the definition of the source term.\n",
    "#\n",
    "f  = Constant(0.)\n",
    "if check: f  = Expression('-8.*x[0] - 10.*x[1]',degree=2)\n",
    "\n",
    "#\n",
    "# Expression related to the exact solution\n",
    "#\n",
    "u_E = Expression(\"10.*exp(-((x[0]-0.5*Lx)*(x[0]-0.5*Lx)+(x[1]-0.5*Ly)*(x[1]-0.5*Ly)))\", degree=2, Lx=xL, Ly=yL)\n",
    "\n",
    "if check: u_E = Expression(\"1+x[0]*x[0]+2*x[1]*x[1] \", degree=2)\n",
    "\n",
    "#\n",
    "# This function is useful later for the treatment of the Dirichlet boundary condition in FEniCS\n",
    "#\n",
    "def Gamma_D(x, on_boundary):\n",
    "    \"\"\"\n",
    "    This function should return a boolean value equal to true or false according to whether the point x \n",
    "    belongs to Gamma_D or not. \n",
    "    \"\"\"\n",
    "    # Here we simply use the \"on_boundary\" boolean provided by FEniCS since the \n",
    "    # Dirichlet condition is imposed on the whole boundary of the domain.\n",
    "    return on_boundary"
   ]
  },
  {
   "cell_type": "markdown",
   "metadata": {},
   "source": [
    "### Problem at the continuous level"
   ]
  },
  {
   "cell_type": "markdown",
   "metadata": {},
   "source": [
    "We seek a function $u$ in a trial space $V$ such that:\n",
    "\\begin{equation}\n",
    "a(u,v) = l(v), \\; \\text{for all test functions} \\; v \\in V, \\text{such as} \\; v=0 \\; \\text{on} \\; \\delta \\Omega, \\\\\n",
    "\\end{equation}\n",
    "where the bilinear form $a: V \\times V \\rightarrow \\mathbb{R}$ and the linear functional $l: V \\rightarrow \\mathbb{R}$ are given by:\n",
    "\\begin{equation}\n",
    "a(u,v) = \\int_{\\Omega} k \\, \\nabla{u}\\, . \\, \\nabla{v} dx, \\quad l(v)= \\int_{\\Omega} f v dx.\n",
    "\\end{equation}"
   ]
  },
  {
   "cell_type": "markdown",
   "metadata": {},
   "source": [
    "### Problem at the discrete level in space\n",
    "FEniCS's Unified Form Language (UFL) greatly simplifies the definition of the bilinear and linear forms at the discrete level as seen next."
   ]
  },
  {
   "cell_type": "code",
   "execution_count": 7,
   "metadata": {},
   "outputs": [
    {
     "name": "stdout",
     "output_type": "stream",
     "text": [
      "Checking symmetry  1.7627073854183126e-16\n",
      "Dimension of A:  (16181, 16181)\n",
      "Number of non-zeros of A:  184721\n",
      "Time spent in the meshing procedure:  0.0009063639999999928\n",
      "Time spent in the finite element assembly procedure:  0.16068792499999995\n"
     ]
    },
    {
     "data": {
      "text/plain": [
       "Text(0.5, 1.05, 'Sparsity pattern of A')"
      ]
     },
     "execution_count": 7,
     "metadata": {},
     "output_type": "execute_result"
    },
    {
     "data": {
      "image/png": "[encoded data removed]",
      "text/plain": [
       "<Figure size 432x288 with 1 Axes>"
      ]
     },
     "metadata": {
      "needs_background": "light"
     },
     "output_type": "display_data"
    }
   ],
   "source": [
    "#\n",
    "# Finite Element Space discretization of the weak formulation\n",
    "# \n",
    "  \n",
    "# Generate the computational mesh \n",
    "# Here is the simplest way to discretize a rectangular domain with nx and ny rectangles in directions x and y,\n",
    "# respectively. \n",
    "# The 'crossed' argument specifies that each rectangle will be divided into four triangles. \n",
    "# We also evaluate the computational time related to this operation.\n",
    "\n",
    "meshing_start         = time.perf_counter()\n",
    "mesh                  = RectangleMesh(Point(x0,y0), Point(xL,yL), nx, ny,'crossed')\n",
    "meshing_time          = time.perf_counter()-meshing_start\n",
    "\n",
    "# If the domain is the unit square, you may want to use instead\n",
    "# mesh = UnitSquareMesh(nx, ny, 'crossed')\n",
    "    \n",
    "# Select the FE approximation space of Lagrange type\n",
    "\n",
    "Vh = FunctionSpace(mesh, \"Lagrange\", deg)\n",
    " \n",
    "#    \n",
    "# Discretization in space of the weak formulation \n",
    "#\n",
    "assembly_start = time.perf_counter()\n",
    "\n",
    "#\n",
    "# The next two lines define two arguments that can be used as variables \n",
    "# to define the bilinear form (u as first argument, v as second)\n",
    "#\n",
    "u  = TrialFunction(Vh)\n",
    "v  = TestFunction(Vh)\n",
    "\n",
    "#\n",
    "# Definition of the variational formulation a and l with UFL specific to FEniCS\n",
    "#\n",
    "a  = k*inner(grad(u), grad(v))*dx \n",
    "l  = f*v*dx\n",
    "\n",
    "# Specify the constraints related to the Dirichlet boundary conditions\n",
    "\n",
    "bc = DirichletBC(Vh, u_E, Gamma_D)\n",
    "\n",
    "\n",
    "# Strategy I: \n",
    "#\n",
    "# Get the solution directly from the solve FEniCS command\n",
    "# with these two lines\n",
    "# \n",
    "\n",
    "# The next line defines uh as a function of the finite element space Vh. Such a function \n",
    "# is characterized by a vector of length dim(Vh) giving the values of the its degrees \n",
    "# of freedom. Such a vector can be obtained as uh.vector() which has the type of a FEniCS\n",
    "# vector. \n",
    "\n",
    "uh     = Function(Vh)\n",
    "\n",
    "# The next line performs several actions. First the bilinear form a is assembled into a sparse \n",
    "# matrix and the linear functional into a vector. The resulting linear system is solved and\n",
    "# the solution is stored as the degrees of freedom of the function uh. Note that the bc \n",
    "# variable specifies the essential boundary condition. \n",
    "#\n",
    "#\n",
    "\n",
    "solve(a == l, uh, bc)\n",
    "\n",
    "# Strategy II:\n",
    "# \n",
    "# This strategy offers more control on the choice of solution methods.\n",
    "#\n",
    "# Deduce the linear system of equations if A and b need to be stored. \n",
    "# Note that assemble_system keeps the symmetry of A when taking into account the essential \n",
    "# boundary conditions.\n",
    "# A is a FEniCS Matrix object. A.array() will convert A to a full matrix stored as \n",
    "# a numpy array.\n",
    "# b is a FEniCS Vector object.\n",
    "\n",
    "A, b = assemble_system(a,l,bc)\n",
    "\n",
    "assembly_time = time.perf_counter()-assembly_start\n",
    "\n",
    "#\n",
    "# Checking symmetry of A that must be satisfied due to the use of assemble_system\n",
    "#\n",
    "# Note that the use of assemble does not maintain symmetry.\n",
    "#\n",
    "R = A.array() - A.array().T\n",
    "print(\"Checking symmetry \",np.linalg.norm(R,1)/np.linalg.norm(A.array(),1))\n",
    "\n",
    "# Construct the solver object related to the implicit part of the discretization\n",
    "# We perform here a Gaussian factorization of A and specify that A is symmetric.\n",
    "\n",
    "Asolve                            = LUSolver(A,method='mumps')\n",
    "Asolve.parameters['symmetric']    = True  \n",
    "\n",
    "#\n",
    "# Timings\n",
    "#\n",
    "\n",
    "print(\"Dimension of A: \",A.array().shape[:])\n",
    "print(\"Number of non-zeros of A: \",A.nnz())\n",
    "print(\"Time spent in the meshing procedure: \",meshing_time)\n",
    "print(\"Time spent in the finite element assembly procedure: \",assembly_time)\n",
    "\n",
    "#\n",
    "# Sparsity pattern of A\n",
    "# \n",
    "\n",
    "plt.figure()\n",
    "plt.spy(sps.csr_matrix(A.array()))\n",
    "plt.title(\"Sparsity pattern of A\")"
   ]
  },
  {
   "cell_type": "markdown",
   "metadata": {},
   "source": [
    "### Numerical approximation of the space solution"
   ]
  },
  {
   "cell_type": "code",
   "execution_count": 8,
   "metadata": {},
   "outputs": [
    {
     "name": "stdout",
     "output_type": "stream",
     "text": [
      "Time spent in the factorization and solution phase:  0.19936335399999905\n"
     ]
    }
   ],
   "source": [
    "#\n",
    "# Strategy I: \n",
    "#\n",
    "# The call to solve as solve(a == l, uh, bc) in the cell above has already delivered \n",
    "# the solution in the function uh. \n",
    "#\n",
    "\n",
    "#\n",
    "# Solution of the linear system with Strategy II: we apply the solve method of a given solver\n",
    "# to deduce the solution. In this solve command, only vectors must be passed.  \n",
    "#\n",
    "wh                     = Function(Vh)\n",
    "#\n",
    "#\n",
    "#\n",
    "solution_start         = time.perf_counter()\n",
    "Asolve.solve(wh.vector(), b)\n",
    "solution_time          = time.perf_counter()-solution_start\n",
    "\n",
    "#\n",
    "# Statistics\n",
    "# \n",
    "print(\"Time spent in the factorization and solution phase: \",solution_time)"
   ]
  },
  {
   "cell_type": "markdown",
   "metadata": {},
   "source": [
    "### Post-processing"
   ]
  },
  {
   "cell_type": "code",
   "execution_count": 9,
   "metadata": {},
   "outputs": [
    {
     "data": {
      "text/plain": [
       "[<matplotlib.lines.Line2D at 0x11e99dcf8>,\n",
       " <matplotlib.lines.Line2D at 0x11e99de48>]"
      ]
     },
     "execution_count": 9,
     "metadata": {},
     "output_type": "execute_result"
    },
    {
     "data": {
      "image/png": "[encoded data removed]",
      "text/plain": [
       "<Figure size 432x288 with 1 Axes>"
      ]
     },
     "metadata": {
      "needs_background": "light"
     },
     "output_type": "display_data"
    }
   ],
   "source": [
    "#\n",
    "# We plot the finite element mesh\n",
    "# \n",
    "plot(mesh)"
   ]
  },
  {
   "cell_type": "code",
   "execution_count": 10,
   "metadata": {
    "scrolled": false
   },
   "outputs": [
    {
     "data": {
      "text/plain": [
       "Text(0.5, 1.0, 'Solution of the heterogeneous Poisson equation')"
      ]
     },
     "execution_count": 10,
     "metadata": {},
     "output_type": "execute_result"
    },
    {
     "data": {
      "image/png": "[encoded data removed]",
      "text/plain": [
       "<Figure size 432x288 with 1 Axes>"
      ]
     },
     "metadata": {
      "needs_background": "light"
     },
     "output_type": "display_data"
    },
    {
     "data": {
      "image/png": "[encoded data removed]",
      "text/plain": [
       "<Figure size 432x288 with 1 Axes>"
      ]
     },
     "metadata": {
      "needs_background": "light"
     },
     "output_type": "display_data"
    }
   ],
   "source": [
    "#\n",
    "# A very basic post-processing\n",
    "# We plot the solution in the computational domain, plot requires the function only. \n",
    "#\n",
    "plt.figure()\n",
    "plot(wh)\n",
    "plt.xlabel('x')\n",
    "plt.ylabel('y')\n",
    "plt.title('Solution of the heterogeneous Poisson equation')\n",
    "plt.figure()\n",
    "plot(uh)\n",
    "plt.xlabel('x')\n",
    "plt.ylabel('y')\n",
    "plt.title('Solution of the heterogeneous Poisson equation')\n",
    "\n",
    " \n",
    "#\n",
    "# Store the file if required\n",
    "#"
   ]
  },
  {
   "cell_type": "markdown",
   "metadata": {},
   "source": [
    "## Task: \n",
    "\n",
    "Modify the above code to solve the heterogeneous Poisson equation with exact solution $u_E(x,y) = 1 + x^2 + 2 y^2$ and $k(x,y) = x + y$. The Dirichlet boundary condition is imposed on the whole boundary as above. The right-hand side of the equation is given by $-8x-10y$. Check the result of your implementation by calculating the $L_2$ norm of the error between the exact solution $u_E$ and the computed solution $u_h$ by calling the errornorm function provided in FEniCS. The boolean variable check should be set to True in the \"Constants and parameters\" cell.  "
   ]
  },
  {
   "cell_type": "code",
   "execution_count": 11,
   "metadata": {
    "scrolled": true
   },
   "outputs": [
    {
     "name": "stdout",
     "output_type": "stream",
     "text": [
      "2.1354728266673163e-14\n"
     ]
    }
   ],
   "source": [
    "if check: print(errornorm(u_E,uh))"
   ]
  },
  {
   "cell_type": "markdown",
   "metadata": {},
   "source": [
    "### Feedback / Your comments or notes"
   ]
  },
  {
   "cell_type": "code",
   "execution_count": null,
   "metadata": {},
   "outputs": [],
   "source": []
  },
  {
   "cell_type": "markdown",
   "metadata": {},
   "source": [
    "# Further information\n",
    "\n",
    "- <a href=\"https://fenicsproject.org\">FEniCS website</a>. \n",
    "\n",
    "- <a href=\"https://fenicsproject.org/tutorial\">FEniCS tutorials</a>."
   ]
  }
 ],
 "metadata": {
  "anaconda-cloud": {},
  "kernelspec": {
   "display_name": "Python 3",
   "language": "python",
   "name": "python3"
  },
  "language_info": {
   "codemirror_mode": {
    "name": "ipython",
    "version": 3
   },
   "file_extension": ".py",
   "mimetype": "text/x-python",
   "name": "python",
   "nbconvert_exporter": "python",
   "pygments_lexer": "ipython3",
   "version": "3.7.3"
  }
 },
 "nbformat": 4,
 "nbformat_minor": 2
}
